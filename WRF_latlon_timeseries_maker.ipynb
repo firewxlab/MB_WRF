{
 "cells": [
  {
   "cell_type": "code",
   "execution_count": null,
   "metadata": {
    "ExecuteTime": {
     "end_time": "2019-06-10T21:33:21.325112Z",
     "start_time": "2019-06-10T21:33:21.319294Z"
    }
   },
   "outputs": [],
   "source": [
    "from netCDF4 import Dataset\n",
    "import numpy as np\n",
    "from wrf import(getvar,interplevel, to_np, latlon_coords, interpline, get_cartopy, cartopy_xlim, cartopy_ylim,ALL_TIMES, vertcross, smooth2d, CoordPair, GeoBounds)\n",
    "import wrf\n",
    "import glob\n",
    "import xarray as xr\n",
    "import warnings\n",
    "warnings.filterwarnings('ignore')"
   ]
  },
  {
   "cell_type": "code",
   "execution_count": null,
   "metadata": {
    "ExecuteTime": {
     "end_time": "2019-06-10T21:33:22.007452Z",
     "start_time": "2019-06-10T21:33:22.004318Z"
    }
   },
   "outputs": [],
   "source": [
    "def grid_xy(lat, lon, mlat,mlon):# The Lat/lon of paradise\n",
    "    wp_lat = lat\n",
    "    wp_lon = lon\n",
    "    #Subtracting the station lat/lon from all the lat/lon points, them from there finding the minimum difference which gives the closest grid box index\n",
    "    abslat = np.abs(mlat-wp_lat)\n",
    "    abslon= np.abs(mlon-wp_lon)\n",
    "    c = np.maximum(abslon,abslat)\n",
    "    xx, yy = np.where(c == np.min(c))\n",
    "    return(xx[0],yy[0]) "
   ]
  },
  {
   "cell_type": "code",
   "execution_count": null,
   "metadata": {
    "ExecuteTime": {
     "end_time": "2019-06-10T21:34:47.559680Z",
     "start_time": "2019-06-10T21:34:32.789216Z"
    }
   },
   "outputs": [],
   "source": [
    "#Prepping Files For Import\n",
    "#path =r'/export/home/mbrewer/Documents/campfire/stares/20181109' # use your path\n",
    "allFiles = glob.glob('wrfout_d03_2018-11*')\n",
    "print ('you have %s WRF files to merge' %(len(allFiles)))\n",
    "\n",
    "\n",
    "for k,i in enumerate(allFiles,0): #pull time from import dictionaries and append to list\n",
    "    ds = Dataset(i)\n",
    "    d = xr.open_dataset(i)\n",
    "\n",
    "    time = getvar(ds, \"times\",timeidx=ALL_TIMES)\n",
    "    rh_2 = getvar(ds, 'rh2', timeidx = ALL_TIMES)\n",
    "    lats, lons = latlon_coords(rh_2)\n",
    "    u, v =getvar(ds, 'uvmet10', timeidx = ALL_TIMES)\n",
    "    truck_lon = -121.57423166666667\n",
    "    truck_lat = 39.69727166666667\n",
    "    x, y = grid_xy(truck_lat, truck_lon, lats, lons)\n",
    "    u_10 = u[:,x,y]\n",
    "    v_10 = v[:,x,y]\n",
    "    T2 = d.T2[:,x,y]\n",
    "    rh2 = rh_2[:,x,y]\n",
    "    sds = T2.to_dataset('T2')\n",
    "    sds['u10'] = u_10\n",
    "    sds['v10'] = v_10\n",
    "    sds['rh2'] = rh2\n",
    "    del sds['u10'].attrs['projection']\n",
    "    del sds['v10'].attrs['projection']\n",
    "    del sds['rh2'].attrs['projection']\n",
    "\n",
    "    del sds['u10'].attrs['coordinates']\n",
    "    del sds['v10'].attrs['coordinates']\n",
    "    del sds['rh2'].attrs['coordinates']\n",
    "    print('')\n",
    "    print('processing WRF file at start time: %s' %(sds.Time[0].data))\n",
    "    print('')\n",
    "    if k ==0:\n",
    "        sds.to_netcdf('timeseries0.nc')\n",
    "    else:\n",
    "        ts = xr.open_dataset('timeseries%s.nc'%(int(k-1))) \n",
    "        tss = xr.merge([ts, sds])\n",
    "        tss.to_netcdf('timeseries%s.nc'%(k))\n",
    "print('')        \n",
    "print('timeseries%s is the final merged timeseries'%(len(allFiles)-1))"
   ]
  }
 ],
 "metadata": {
  "kernelspec": {
   "display_name": "Python [conda env:wrf]",
   "language": "python",
   "name": "conda-env-wrf-py"
  },
  "language_info": {
   "codemirror_mode": {
    "name": "ipython",
    "version": 3
   },
   "file_extension": ".py",
   "mimetype": "text/x-python",
   "name": "python",
   "nbconvert_exporter": "python",
   "pygments_lexer": "ipython3",
   "version": "3.7.3"
  },
  "varInspector": {
   "cols": {
    "lenName": 16,
    "lenType": 16,
    "lenVar": 40
   },
   "kernels_config": {
    "python": {
     "delete_cmd_postfix": "",
     "delete_cmd_prefix": "del ",
     "library": "var_list.py",
     "varRefreshCmd": "print(var_dic_list())"
    },
    "r": {
     "delete_cmd_postfix": ") ",
     "delete_cmd_prefix": "rm(",
     "library": "var_list.r",
     "varRefreshCmd": "cat(var_dic_list()) "
    }
   },
   "types_to_exclude": [
    "module",
    "function",
    "builtin_function_or_method",
    "instance",
    "_Feature"
   ],
   "window_display": false
  }
 },
 "nbformat": 4,
 "nbformat_minor": 2
}
